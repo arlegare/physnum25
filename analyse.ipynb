{
 "cells": [
  {
   "cell_type": "code",
   "execution_count": 10,
   "id": "9d848bfc",
   "metadata": {},
   "outputs": [],
   "source": [
    "import numpy as np \n",
    "import h5py\n",
    "\n",
    "data_folder = \"data/\" # Ne pas oublier le \"/\" après. Si en windows, c'est \"\\\""
   ]
  },
  {
   "cell_type": "markdown",
   "id": "a8c48d82",
   "metadata": {},
   "source": [
    "## Analyse des séries de simulation, enregistrées en format HDF5 \n",
    "## (Cht'un grand fan, laissez-moi le temps de setupper le pipeline d'analyse comme du monde.)"
   ]
  },
  {
   "cell_type": "code",
   "execution_count": 9,
   "id": "8d0b6873",
   "metadata": {},
   "outputs": [
    {
     "name": "stdout",
     "output_type": "stream",
     "text": [
      "Clefs du dossier : ['run_0000', 'run_0001', 'run_0002', 'run_0003', 'run_0004', 'run_0005', 'run_0006', 'run_0007', 'run_0008', 'run_0009', 'run_0010', 'run_0011', 'run_0012', 'run_0013', 'run_0014', 'run_0015', 'run_0016', 'run_0017', 'run_0018', 'run_0019', 'run_0020', 'run_0021', 'run_0022', 'run_0023', 'run_0024', 'run_0025', 'run_0026', 'run_0027', 'run_0028', 'run_0029', 'run_0030', 'run_0031', 'run_0032', 'run_0033', 'run_0034', 'run_0035', 'run_0036', 'run_0037', 'run_0038', 'run_0039', 'run_0040', 'run_0041', 'run_0042', 'run_0043', 'run_0044', 'run_0045', 'run_0046', 'run_0047', 'run_0048', 'run_0049', 'run_0050', 'run_0051', 'run_0052', 'run_0053', 'run_0054', 'run_0055', 'run_0056', 'run_0057', 'run_0058', 'run_0059', 'run_0060', 'run_0061', 'run_0062', 'run_0063', 'run_0064', 'run_0065', 'run_0066', 'run_0067', 'run_0068', 'run_0069', 'run_0070', 'run_0071', 'run_0072', 'run_0073', 'run_0074', 'run_0075', 'run_0076', 'run_0077', 'run_0078', 'run_0079', 'run_0080', 'run_0081', 'run_0082', 'run_0083', 'run_0084', 'run_0085', 'run_0086', 'run_0087', 'run_0088', 'run_0089', 'run_0090', 'run_0091', 'run_0092', 'run_0093', 'run_0094', 'run_0095', 'run_0096', 'run_0097', 'run_0098', 'run_0099', 'run_0100', 'run_0101', 'run_0102', 'run_0103', 'run_0104', 'run_0105', 'run_0106', 'run_0107', 'run_0108', 'run_0109', 'run_0110', 'run_0111']\n"
     ]
    },
    {
     "ename": "NameError",
     "evalue": "name 'dataset_name' is not defined",
     "output_type": "error",
     "traceback": [
      "\u001b[0;31m---------------------------------------------------------------------------\u001b[0m",
      "\u001b[0;31mNameError\u001b[0m                                 Traceback (most recent call last)",
      "Cell \u001b[0;32mIn[9], line 4\u001b[0m\n\u001b[1;32m      1\u001b[0m \u001b[38;5;28;01mwith\u001b[39;00m h5py\u001b[38;5;241m.\u001b[39mFile(data_folder \u001b[38;5;241m+\u001b[39m \u001b[38;5;124m\"\u001b[39m\u001b[38;5;124mresults.h5\u001b[39m\u001b[38;5;124m\"\u001b[39m, \u001b[38;5;124m\"\u001b[39m\u001b[38;5;124mr\u001b[39m\u001b[38;5;124m\"\u001b[39m) \u001b[38;5;28;01mas\u001b[39;00m file:\n\u001b[1;32m      2\u001b[0m     \u001b[38;5;28mprint\u001b[39m(\u001b[38;5;124m\"\u001b[39m\u001b[38;5;124mClefs du dossier :\u001b[39m\u001b[38;5;124m\"\u001b[39m, \u001b[38;5;28mlist\u001b[39m(file\u001b[38;5;241m.\u001b[39mkeys()))\n\u001b[0;32m----> 4\u001b[0m     \u001b[38;5;28;01mif\u001b[39;00m \u001b[43mdataset_name\u001b[49m \u001b[38;5;129;01min\u001b[39;00m file:\n\u001b[1;32m      5\u001b[0m         data \u001b[38;5;241m=\u001b[39m file[dataset_name][:]\n\u001b[1;32m      6\u001b[0m         \u001b[38;5;28mprint\u001b[39m(\u001b[38;5;124mf\u001b[39m\u001b[38;5;124m\"\u001b[39m\u001b[38;5;124mClefs du jeu de données \u001b[39m\u001b[38;5;132;01m{\u001b[39;00mdataset_name\u001b[38;5;132;01m}\u001b[39;00m\u001b[38;5;124m:\u001b[39m\u001b[38;5;124m\"\u001b[39m, data\u001b[38;5;241m.\u001b[39mkeys())\n",
      "\u001b[0;31mNameError\u001b[0m: name 'dataset_name' is not defined"
     ]
    }
   ],
   "source": [
    "with h5py.File(data_folder + \"results.h5\", \"r\") as file:\n",
    "    print(\"Clefs du dossier :\", list(file.keys()))\n",
    "    \n",
    "    if dataset_name in file:\n",
    "        data = file[dataset_name][:]\n",
    "        print(f\"Clefs du jeu de données {dataset_name}:\", data.keys())"
   ]
  },
  {
   "cell_type": "code",
   "execution_count": null,
   "id": "8771ee9f",
   "metadata": {},
   "outputs": [],
   "source": []
  }
 ],
 "metadata": {
  "kernelspec": {
   "display_name": "calimba2",
   "language": "python",
   "name": "python3"
  },
  "language_info": {
   "codemirror_mode": {
    "name": "ipython",
    "version": 3
   },
   "file_extension": ".py",
   "mimetype": "text/x-python",
   "name": "python",
   "nbconvert_exporter": "python",
   "pygments_lexer": "ipython3",
   "version": "3.9.19"
  }
 },
 "nbformat": 4,
 "nbformat_minor": 5
}
